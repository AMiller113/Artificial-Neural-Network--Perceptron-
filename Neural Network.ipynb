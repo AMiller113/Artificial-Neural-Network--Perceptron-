{
 "cells": [
  {
   "cell_type": "code",
   "execution_count": 19,
   "metadata": {},
   "outputs": [],
   "source": [
    "import numpy\n",
    "import scipy.special # Contains the sigmoid function which is named expit(x) in the library\n",
    "import matplotlib.pyplot\n",
    "%matplotlib inline\n",
    "\n",
    "# Neural Network class definition\n",
    "class NeuralNetwork:    \n",
    "    #Constructor\n",
    "    def __init__(self, inputNodes, hiddenNodes, outputNodes, learningRate):\n",
    "        # Number of nodes in each layer\n",
    "        self.iNodes = inputNodes\n",
    "        self.hNodes = hiddenNodes\n",
    "        self.oNodes = outputNodes\n",
    "        # learning rate\n",
    "        self.lRate = learningRate\n",
    "        #Create Weight Matrixes\n",
    "        self.w_input_hidden = numpy.random.normal(0.0, pow(self.iNodes, -0.5),(self.hNodes, self.iNodes))\n",
    "        self.w_hidden_output = numpy.random.normal(0.0, pow(self.hNodes, -0.5),(self.oNodes, self.hNodes))\n",
    "        #activation function AKA Sigmoid function\n",
    "        # lambda keyword declares the creation of a lambda function\n",
    "        # assigning a lambda function creates something similar to a c# delegate or a function pointer\n",
    "        self.activation_function = lambda x: scipy.special.expit(x) \n",
    "        pass\n",
    "    \n",
    "    #training function for network\n",
    "    def Train(self, inputs_list, targets_list):\n",
    "        # Converts target lists into 2D arrays\n",
    "        targets = numpy.array(targets_list, ndmin = 2).T\n",
    "        # Obtains ouput matrix\n",
    "        final_outputs, hidden_outputs, inputs = self.CalculateOutput(inputs_list)\n",
    "        # Error (target - actual)\n",
    "        output_errors = targets - final_outputs\n",
    "        # Calculation for the error of the hidden layer\n",
    "        hidden_errors = numpy.dot(self.w_hidden_output.T, output_errors)\n",
    "        # Update the links between the output layer and the hidden layer\n",
    "        self.w_hidden_output += (self.lRate * numpy.dot((output_errors * final_outputs * (1.0 - final_outputs)), numpy.transpose(hidden_outputs)))\n",
    "        # Update the links between the hidden layer and the input layer\n",
    "        self.w_input_hidden += (self.lRate * numpy.dot((hidden_errors * hidden_outputs * (1.0 - hidden_outputs)), numpy.transpose(inputs)))\n",
    "        pass\n",
    "    \n",
    "    #query the network\n",
    "    def Query(self, inputs_list):\n",
    "        return self.CalculateOutput(inputs_list)[0]\n",
    "        pass\n",
    "    \n",
    "       #Calculates the final outputs from a given input\n",
    "    def CalculateOutput(self, inputs_list):\n",
    "        # Converts inputs list into a 2D array\n",
    "        inputs = numpy.array(inputs_list, ndmin = 2).T\n",
    "        # Combines the inputs with the input to hidden layer weights\n",
    "        hidden_inputs = numpy.dot(self.w_input_hidden, inputs)\n",
    "        # Applies the sigmoid fuction to the weighted input\n",
    "        hidden_outputs = self.activation_function(hidden_inputs)\n",
    "        # Combines the inputs with the hidden to output layer weights\n",
    "        final_inputs = numpy.dot(self.w_hidden_output, hidden_outputs)\n",
    "        # Applies the sigmoid fuction to the weighted hidden layer outputs\n",
    "        final_outputs = self.activation_function(final_inputs)       \n",
    "        return (final_outputs, hidden_outputs, inputs)\n",
    "        pass"
   ]
  },
  {
   "cell_type": "code",
   "execution_count": 76,
   "metadata": {},
   "outputs": [],
   "source": [
    "# Setting the hyperparameters\n",
    "epochs = 7\n",
    "input_nodes = 784\n",
    "hidden_nodes = 200\n",
    "output_nodes = 10\n",
    "learning_rate = 0.1\n",
    "# Initializing the Network\n",
    "n = NeuralNetwork(input_nodes, hidden_nodes, output_nodes, learning_rate)"
   ]
  },
  {
   "cell_type": "code",
   "execution_count": 77,
   "metadata": {},
   "outputs": [],
   "source": [
    "# Retrieving the data\n",
    "data_file = open(\"mnist_dataset/mnist_train.csv\", 'r')\n",
    "data_list = data_file.readlines()\n",
    "data_file.close()"
   ]
  },
  {
   "cell_type": "code",
   "execution_count": 80,
   "metadata": {},
   "outputs": [],
   "source": [
    "# Training Loop\n",
    "for e in range(epochs):\n",
    "    for record in data_list:\n",
    "        #Split the record by the',' commas\n",
    "        values = record.split(',')\n",
    "        # Set the inputs to be values between .01 and .99 \n",
    "        inputs = (numpy.asfarray(values[1:]) / 255.0 * 0.99) + 0.01\n",
    "        # Create the target output values, the correct label will be .99, all others .01\n",
    "        targets = numpy.zeros(output_nodes) + 0.01\n",
    "        # values[0] is the target label for the current record\n",
    "        targets[int(values[0])] = 0.99\n",
    "        #\n",
    "        n.Train(inputs,targets)\n",
    "        pass\n",
    "    pass"
   ]
  },
  {
   "cell_type": "code",
   "execution_count": 81,
   "metadata": {},
   "outputs": [],
   "source": [
    "# Loading test Data\n",
    "test_data_file = open(\"mnist_dataset/mnist_test.csv\", 'r')\n",
    "test_data_list = test_data_file.readlines()\n",
    "test_data_file.close()"
   ]
  },
  {
   "cell_type": "code",
   "execution_count": 83,
   "metadata": {},
   "outputs": [],
   "source": [
    "# Testing the Neural Network\n",
    "scorecard = []\n",
    "for record in test_data_list:\n",
    "    all_values = record.split(',')\n",
    "    correct_label = int(all_values[0])\n",
    "   # print(correct_label, \"Correct Label\")\n",
    "    inputs = (numpy.asfarray(all_values[1:])/ 255.0 * 0.99) + 0.01\n",
    "    outputs = n.Query(inputs)\n",
    "    label = numpy.argmax(outputs)\n",
    "    #print(label, \"Networks Answer\")\n",
    "    if(label == correct_label):\n",
    "        scorecard.append(1)\n",
    "    else:\n",
    "        scorecard.append(0)\n",
    "    pass"
   ]
  },
  {
   "cell_type": "code",
   "execution_count": 84,
   "metadata": {},
   "outputs": [
    {
     "name": "stdout",
     "output_type": "stream",
     "text": [
      "Performance = 0.9657\n"
     ]
    }
   ],
   "source": [
    "# Print the Networks Performance on Test\n",
    "scorecard_array = numpy.asarray(scorecard)\n",
    "print(\"Performance =\", scorecard_array.sum() / scorecard_array.size)"
   ]
  }
 ],
 "metadata": {
  "kernelspec": {
   "display_name": "Python 3",
   "language": "python",
   "name": "python3"
  },
  "language_info": {
   "codemirror_mode": {
    "name": "ipython",
    "version": 3
   },
   "file_extension": ".py",
   "mimetype": "text/x-python",
   "name": "python",
   "nbconvert_exporter": "python",
   "pygments_lexer": "ipython3",
   "version": "3.7.3"
  }
 },
 "nbformat": 4,
 "nbformat_minor": 2
}
